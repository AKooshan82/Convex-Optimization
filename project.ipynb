{
 "cells": [
  {
   "cell_type": "markdown",
   "metadata": {},
   "source": [
    "## Convex Optimization Project \n",
    "### implementation of the linear and nonlinear gradient conjugate method\n",
    "\n",
    "#### Kiarash Joolaie - 400100949\n",
    "#### Kooshan Fattah - 401102191\n",
    "#### Mazdak Teymorian - 401101495"
   ]
  },
  {
   "cell_type": "code",
   "execution_count": 2,
   "metadata": {},
   "outputs": [],
   "source": [
    "import numpy as np"
   ]
  },
  {
   "cell_type": "code",
   "execution_count": 3,
   "metadata": {},
   "outputs": [
    {
     "name": "stdout",
     "output_type": "stream",
     "text": [
      "The eigenvalues of A: [0.19098301 1.30901699]\n"
     ]
    }
   ],
   "source": [
    "def f(x): # Define the objective function\n",
    "    return x[0]**2/2 + x[0]*x[1] + x[1]**2 - 2*x[1]\n",
    "A = np.array(([1/2, 1/2], [1/2, 1]), dtype=float)\n",
    "b = np.array([0., 2.])\n",
    "eigs = np.linalg.eigvals(A)\n",
    "print(\"The eigenvalues of A:\", eigs)"
   ]
  },
  {
   "cell_type": "code",
   "execution_count": 4,
   "metadata": {},
   "outputs": [
    {
     "name": "stdout",
     "output_type": "stream",
     "text": [
      "A is positive definite\n"
     ]
    }
   ],
   "source": [
    "if (np.all(eigs>0)):\n",
    "    print(\"A is positive definite\")\n",
    "elif (np.all(eigs>=0)):\n",
    "    print(\"A is positive semi-definite\")\n",
    "else:\n",
    "    print(\"A is negative definite\")"
   ]
  },
  {
   "cell_type": "code",
   "execution_count": 5,
   "metadata": {},
   "outputs": [
    {
     "name": "stdout",
     "output_type": "stream",
     "text": [
      "A is symmetric\n"
     ]
    }
   ],
   "source": [
    "if (A.T==A).all()==True: print(\"A is symmetric\")"
   ]
  },
  {
   "cell_type": "code",
   "execution_count": 6,
   "metadata": {},
   "outputs": [],
   "source": [
    "def linear_CG(x, A, b, epsilon):\n",
    "    res = A.dot(x) - b # Initialize the residual\n",
    "    delta = -res # Initialize the descent direction\n",
    "    \n",
    "    while True:\n",
    "        \n",
    "        if np.linalg.norm(res) <= epsilon:\n",
    "            return x, f(x) # Return the minimizer x* and the function value f(x*)\n",
    "        \n",
    "        D = A.dot(delta)\n",
    "        beta = -(res.dot(delta))/(delta.dot(D)) # Line (11) in the algorithm\n",
    "        x = x + beta*delta # Generate the new iterate\n",
    "\n",
    "        res = A.dot(x) - b # generate the new residual\n",
    "        chi = res.dot(D)/(delta.dot(D)) # Line (14) in the algorithm \n",
    "        delta = chi*delta -  res # Generate the new descent direction"
   ]
  },
  {
   "cell_type": "code",
   "execution_count": null,
   "metadata": {},
   "outputs": [],
   "source": [
    "linear_CG(np.array([2.3, -2.2]), A, b, 10**-5)"
   ]
  },
  {
   "cell_type": "markdown",
   "metadata": {},
   "source": [
    "## Comparison with Steepest descent\n",
    "Now we write two functions; one for the linear conjugate gradient and the other for the steepest descent and we will see that for a matrix of size 100*100 the CG method converges much faster."
   ]
  },
  {
   "cell_type": "code",
   "execution_count": 8,
   "metadata": {},
   "outputs": [
    {
     "name": "stdout",
     "output_type": "stream",
     "text": [
      "Conjugate Gradient converged in 50 steps.\n"
     ]
    }
   ],
   "source": [
    "def conjugate_gradient(A, b, x0, tol=1e-6, max_iter=1000):\n",
    "    x = x0\n",
    "    r = b - A @ x\n",
    "    p = r\n",
    "    rs_old = r.T @ r\n",
    "    steps = 0\n",
    "\n",
    "    for i in range(max_iter):\n",
    "        Ap = A @ p\n",
    "        alpha = rs_old / (p.T @ Ap)\n",
    "        x = x + alpha * p\n",
    "        r = r - alpha * Ap\n",
    "        rs_new = r.T @ r\n",
    "        steps += 1\n",
    "\n",
    "        if np.sqrt(rs_new) < tol:\n",
    "            break\n",
    "\n",
    "        beta = rs_new / rs_old\n",
    "        p = r + beta * p\n",
    "        rs_old = rs_new\n",
    "\n",
    "    return x, steps\n",
    "\n",
    "# Generate A and b\n",
    "n = 100\n",
    "A = 2 * np.eye(n) - np.eye(n, k=1) - np.eye(n, k=-1)\n",
    "b = np.ones(n)\n",
    "x0 = np.zeros(n)\n",
    "\n",
    "# Solve using Conjugate Gradient\n",
    "x_cg, steps_cg = conjugate_gradient(A, b, x0)\n",
    "print(f\"Conjugate Gradient converged in {steps_cg} steps.\")"
   ]
  },
  {
   "cell_type": "code",
   "execution_count": 10,
   "metadata": {},
   "outputs": [
    {
     "name": "stdout",
     "output_type": "stream",
     "text": [
      "Steepest Descent converged in 1000 steps.\n"
     ]
    }
   ],
   "source": [
    "def steepest_descent(A, b, x0, tol=1e-6, max_iter=1000):\n",
    "    x = x0\n",
    "    r = b - A @ x\n",
    "    steps = 0\n",
    "\n",
    "    for i in range(max_iter):\n",
    "        Ar = A @ r\n",
    "        alpha = (r.T @ r) / (r.T @ Ar)\n",
    "        x = x + alpha * r\n",
    "        r = r - alpha * Ar\n",
    "        steps += 1\n",
    "\n",
    "        if np.linalg.norm(r) < tol:\n",
    "            break\n",
    "\n",
    "    return x, steps\n",
    "\n",
    "# Solve using Steepest Descent\n",
    "x_sd, steps_sd = steepest_descent(A, b, x0)\n",
    "print(f\"Steepest Descent converged in {steps_sd} steps.\")"
   ]
  },
  {
   "cell_type": "markdown",
   "metadata": {},
   "source": [
    "The Conjugate Gradient method converges faster because it uses conjugate directions to ensure that each step is optimal and does not interfere with previous steps. In contrast, the Steepest Descent method follows the direction of the gradient at each step, which can lead to slow convergence, especially for ill-conditioned matrices.\n",
    "\n",
    "The number of steps required for convergence is a key metric for comparing the efficiency of iterative methods. In this example, the CG method requires fewer steps to achieve the same level of accuracy, making it a more powerful tool for solving large linear systems."
   ]
  },
  {
   "cell_type": "code",
   "execution_count": 12,
   "metadata": {},
   "outputs": [
    {
     "name": "stdout",
     "output_type": "stream",
     "text": [
      "Minimum found at [ 8.99100899 -0.08991009] in 1 steps.\n",
      "Function value at minimum: 80.91908091908093\n"
     ]
    },
    {
     "data": {
      "image/png": "[encoded data removed]",
      "text/plain": [
       "<Figure size 640x480 with 1 Axes>"
      ]
     },
     "metadata": {},
     "output_type": "display_data"
    }
   ],
   "source": [
    "import numpy as np\n",
    "import matplotlib.pyplot as plt\n",
    "from scipy.optimize import line_search\n",
    "\n",
    "# Define the objective function and its gradient\n",
    "def f(x):\n",
    "    return x[0]**2 + 10 * x[1]**2  # Example: f(x) = x1^2 + 10*x2^2\n",
    "\n",
    "def grad_f(x):\n",
    "    return np.array([2 * x[0], 20 * x[1]])\n",
    "\n",
    "# Fletcher-Reeves Algorithm\n",
    "def fletcher_reeves(f, grad_f, x0, max_iter=1000, tol=1e-6):\n",
    "    x = x0\n",
    "    g = grad_f(x)\n",
    "    d = -g  # Initial search direction\n",
    "    steps = 0\n",
    "    x_history = [x]  # Store the history of x for plotting\n",
    "    f_history = [f(x)]  # Store the history of function values\n",
    "\n",
    "    for k in range(max_iter):\n",
    "        # Perform line search to find the step size alpha\n",
    "        line_search_result = line_search(f, grad_f, x, d)\n",
    "        if line_search_result[0] is not None:\n",
    "            alpha = line_search_result[0]  # Extract step size from line search\n",
    "        else:\n",
    "            alpha = 1.0  # Fallback if line search fails\n",
    "\n",
    "        # Update x\n",
    "        x_new = x + alpha * d\n",
    "        g_new = grad_f(x_new)\n",
    "\n",
    "        # Store history\n",
    "        x_history.append(x_new)\n",
    "        f_history.append(f(x_new))\n",
    "\n",
    "        # Check for convergence\n",
    "        if np.linalg.norm(g_new) < tol:\n",
    "            break\n",
    "\n",
    "        # Compute beta (Fletcher-Reeves)\n",
    "        beta = np.dot(g_new, g_new) / np.dot(g, g)\n",
    "\n",
    "        # Update search direction\n",
    "        d = -g_new + beta * d\n",
    "\n",
    "        # Update for next iteration\n",
    "        x = x_new\n",
    "        g = g_new\n",
    "        steps += 1\n",
    "\n",
    "    return x, steps, x_history, f_history\n",
    "\n",
    "# Initial guess\n",
    "x0 = np.array([10.0, 10.0])\n",
    "\n",
    "# Run Fletcher-Reeves algorithm\n",
    "x_min, steps, x_history, f_history = fletcher_reeves(f, grad_f, x0)\n",
    "\n",
    "# Print results\n",
    "print(f\"Minimum found at {x_min} in {steps} steps.\")\n",
    "print(f\"Function value at minimum: {f(x_min)}\")\n",
    "\n",
    "# Plot convergence\n",
    "plt.plot(f_history, label=\"Fletcher-Reeves Convergence\")\n",
    "plt.xlabel(\"Iteration\")\n",
    "plt.ylabel(\"Function Value (f(x))\")\n",
    "plt.title(\"Convergence of Fletcher-Reeves Algorithm\")\n",
    "plt.yscale(\"log\")  # Use log scale for better visualization\n",
    "plt.legend()\n",
    "plt.grid()\n",
    "plt.show()"
   ]
  },
  {
   "cell_type": "code",
   "execution_count": 20,
   "metadata": {},
   "outputs": [
    {
     "name": "stdout",
     "output_type": "stream",
     "text": [
      "Fletcher-Reeves: Minimum found at [0.0000000e+00 8.8817842e-15] in 1 steps.\n",
      "Polak-Ribière: Minimum found at [0.0000000e+00 8.8817842e-15] in 1 steps.\n",
      "Steepest Descent: Minimum found at [ 4.00093993e-08 -1.48291342e-10] in 35 steps.\n"
     ]
    },
    {
     "data": {
      "image/png": "[encoded data removed]",
      "text/plain": [
       "<Figure size 640x480 with 1 Axes>"
      ]
     },
     "metadata": {},
     "output_type": "display_data"
    }
   ],
   "source": [
    "import numpy as np\n",
    "import matplotlib.pyplot as plt\n",
    "from scipy.optimize import line_search\n",
    "\n",
    "# Define the objective function and its gradient\n",
    "def f(x):\n",
    "    return x[0]**2 + 10 * x[1]**2  # Example: f(x) = x1^2 + 10*x2^2\n",
    "\n",
    "def grad_f(x):\n",
    "    return np.array([2 * x[0], 20 * x[1]])\n",
    "\n",
    "# Polak-Ribière Conjugate Gradient Algorithm\n",
    "def polak_ribiere(f, grad_f, x0, max_iter=1000, tol=1e-6):\n",
    "    x = x0\n",
    "    g = grad_f(x)\n",
    "    d = -g  # Initial search direction\n",
    "    steps = 0\n",
    "    f_history = [f(x)]  # Store the history of function values\n",
    "\n",
    "    for k in range(max_iter):\n",
    "        # Perform line search to find the step size alpha\n",
    "        line_search_result = line_search(f, grad_f, x, d)\n",
    "        if line_search_result[0] is not None:\n",
    "            alpha = line_search_result[0]  # Extract step size from line search\n",
    "        else:\n",
    "            alpha = 1.0  # Fallback if line search fails\n",
    "\n",
    "        # Update x\n",
    "        x = x + alpha * d\n",
    "        g_new = grad_f(x)\n",
    "\n",
    "        # Store history\n",
    "        f_history.append(f(x))\n",
    "\n",
    "        # Check for convergence\n",
    "        if np.linalg.norm(g_new) < tol:\n",
    "            break\n",
    "\n",
    "        # Compute beta (Polak-Ribière)\n",
    "        beta = np.dot(g_new, g_new - g) / np.dot(g, g)\n",
    "\n",
    "        # Update search direction\n",
    "        d = -g_new + beta * d\n",
    "\n",
    "        # Update for next iteration\n",
    "        g = g_new\n",
    "        steps += 1\n",
    "\n",
    "    return x, steps, f_history\n",
    "\n",
    "# Steepest Descent Algorithm\n",
    "def steepest_descent(f, grad_f, x0, max_iter=1000, tol=1e-6):\n",
    "    x = x0\n",
    "    g = grad_f(x)\n",
    "    steps = 0\n",
    "    f_history = [f(x)]\n",
    "\n",
    "    for k in range(max_iter):\n",
    "        # Perform line search to find the step size alpha\n",
    "        line_search_result = line_search(f, grad_f, x, -g)\n",
    "        if line_search_result[0] is not None:\n",
    "            alpha = line_search_result[0]  # Extract step size from line search\n",
    "        else:\n",
    "            alpha = 1.0  # Fallback if line search fails\n",
    "\n",
    "        # Update x\n",
    "        x = x - alpha * g\n",
    "        g = grad_f(x)\n",
    "\n",
    "        # Store history\n",
    "        f_history.append(f(x))\n",
    "        if np.linalg.norm(g) < tol:\n",
    "            break\n",
    "\n",
    "        steps += 1\n",
    "\n",
    "    return x, steps, f_history\n",
    "\n",
    "# Initial guess\n",
    "x0 = np.array([124.0, 10.0])\n",
    "\n",
    "# Run all algorithms\n",
    "x_min_fr, steps_fr, f_history_fr = fletcher_reeves(f, grad_f, x0)\n",
    "x_min_pr, steps_pr, f_history_pr = polak_ribiere(f, grad_f, x0)\n",
    "x_min_sd, steps_sd, f_history_sd = steepest_descent(f, grad_f, x0)\n",
    "\n",
    "# Print results\n",
    "print(f\"Fletcher-Reeves: Minimum found at {x_min_fr} in {steps_fr} steps.\")\n",
    "print(f\"Polak-Ribière: Minimum found at {x_min_pr} in {steps_pr} steps.\")\n",
    "print(f\"Steepest Descent: Minimum found at {x_min_sd} in {steps_sd} steps.\")\n",
    "\n",
    "# Plot convergence comparison\n",
    "plt.plot(f_history_fr, label=\"Fletcher-Reeves\")\n",
    "plt.plot(f_history_pr, label=\"Polak-Ribière\", linestyle=\"--\")\n",
    "plt.plot(f_history_sd, label=\"Steepest Descent\", linestyle=\"-.\")\n",
    "plt.xlabel(\"Iteration\")\n",
    "plt.ylabel(\"Function Value (f(x))\")\n",
    "plt.title(\"Convergence Comparison: Fletcher-Reeves vs Polak-Ribière vs Steepest Descent\")\n",
    "plt.yscale(\"log\")  # Use log scale for better visualization\n",
    "plt.legend()\n",
    "plt.grid()\n",
    "plt.show()"
   ]
  },
  {
   "cell_type": "markdown",
   "metadata": {},
   "source": [
    "## Key Observations\n",
    "1. Fletcher-Reeves:\n",
    "- Converges faster than Steepest Descent due to the use of conjugate directions.\n",
    "- Requires fewer iterations to reach the minimum.\n",
    "2. Polak-Ribière:\n",
    "- Often converges faster than Fletcher-Reeves for non-quadratic functions.\n",
    "- Performs better in cases where the objective function is not perfectly quadratic.\n",
    "3. Steepest Descent:\n",
    "- Follows the gradient direction at each step, which can lead to slower convergence, especially for ill-conditioned problems.\n",
    "This comparison demonstrates the efficiency of the Fletcher-Reeves algorithm and its variants compared to Steepest Descent, while still avoiding Hessian computation.\n"
   ]
  },
  {
   "cell_type": "markdown",
   "metadata": {},
   "source": [
    "## Example: Training a Model"
   ]
  },
  {
   "cell_type": "code",
   "execution_count": 1,
   "metadata": {},
   "outputs": [
    {
     "name": "stderr",
     "output_type": "stream",
     "text": [
      "c:\\Users\\Mazdak\\anaconda3\\lib\\site-packages\\pandas\\core\\arrays\\masked.py:60: UserWarning: Pandas requires version '1.3.6' or newer of 'bottleneck' (version '1.3.5' currently installed).\n",
      "  from pandas.core import (\n"
     ]
    }
   ],
   "source": [
    "import numpy as np\n",
    "import torch\n",
    "import torch.nn as nn\n",
    "import torch.optim as optim\n",
    "from sklearn.datasets import make_classification\n",
    "from sklearn.model_selection import train_test_split\n",
    "from sklearn.preprocessing import StandardScaler\n",
    "from sklearn.metrics import accuracy_score\n",
    "\n",
    "# Step 1: Create a toy dataset\n",
    "X, y = make_classification(n_samples=1000, n_features=20, n_classes=2, random_state=42)\n",
    "scaler = StandardScaler()\n",
    "X = scaler.fit_transform(X)\n",
    "\n",
    "# Split into train/test sets\n",
    "X_train, X_test, y_train, y_test = train_test_split(X, y, test_size=0.2, random_state=42)\n",
    "X_train, X_test = torch.tensor(X_train, dtype=torch.float32), torch.tensor(X_test, dtype=torch.float32)\n",
    "y_train, y_test = torch.tensor(y_train, dtype=torch.long), torch.tensor(y_test, dtype=torch.long)\n",
    "\n",
    "# Step 2: Define the simple neural network\n",
    "class SimpleNet(nn.Module):\n",
    "    def __init__(self):\n",
    "        super(SimpleNet, self).__init__()\n",
    "        self.fc1 = nn.Linear(20, 64)\n",
    "        self.relu = nn.ReLU()\n",
    "        self.fc2 = nn.Linear(64, 2)\n",
    "\n",
    "    def forward(self, x):\n",
    "        x = self.relu(self.fc1(x))\n",
    "        x = self.fc2(x)\n",
    "        return x\n"
   ]
  },
  {
   "cell_type": "code",
   "execution_count": 2,
   "metadata": {},
   "outputs": [
    {
     "name": "stdout",
     "output_type": "stream",
     "text": [
      "Training with Gradient Descent...\n",
      "Epoch [10/50], Loss: 0.7281\n",
      "Epoch [20/50], Loss: 0.6968\n",
      "Epoch [30/50], Loss: 0.6694\n",
      "Epoch [40/50], Loss: 0.6451\n",
      "Epoch [50/50], Loss: 0.6233\n",
      "Gradient Descent Test Accuracy: 0.6600\n"
     ]
    }
   ],
   "source": [
    "# Step 3: Gradient Descent Training\n",
    "print(\"Training with Gradient Descent...\")\n",
    "model_gd = SimpleNet()\n",
    "criterion = nn.CrossEntropyLoss()\n",
    "optimizer_gd = optim.SGD(model_gd.parameters(), lr=0.01)\n",
    "\n",
    "# Training loop\n",
    "epochs = 50\n",
    "for epoch in range(epochs):\n",
    "    model_gd.train()\n",
    "    optimizer_gd.zero_grad()\n",
    "    outputs = model_gd(X_train)\n",
    "    loss = criterion(outputs, y_train)\n",
    "    loss.backward()\n",
    "    optimizer_gd.step()\n",
    "    if (epoch + 1) % 10 == 0:\n",
    "        print(f\"Epoch [{epoch + 1}/{epochs}], Loss: {loss.item():.4f}\")\n",
    "\n",
    "# Evaluate Gradient Descent Model\n",
    "model_gd.eval()\n",
    "with torch.no_grad():\n",
    "    preds_gd = torch.argmax(model_gd(X_test), axis=1).numpy()\n",
    "    accuracy_gd = accuracy_score(y_test, preds_gd)\n",
    "print(f\"Gradient Descent Test Accuracy: {accuracy_gd:.4f}\")"
   ]
  },
  {
   "cell_type": "code",
   "execution_count": 3,
   "metadata": {},
   "outputs": [
    {
     "name": "stdout",
     "output_type": "stream",
     "text": [
      "\n",
      "Training with Conjugate Gradient...\n",
      "Epoch [10/50], Loss: 0.5266\n",
      "Epoch [20/50], Loss: 0.4499\n",
      "Epoch [30/50], Loss: 0.4036\n",
      "Epoch [40/50], Loss: 0.3737\n",
      "Epoch [50/50], Loss: 0.3532\n",
      "Conjugate Gradient Test Accuracy: 0.8150\n"
     ]
    }
   ],
   "source": [
    "# Step 4: Conjugate Gradient Training\n",
    "print(\"\\nTraining with Conjugate Gradient...\")\n",
    "model_cg = SimpleNet()\n",
    "\n",
    "# Function for Conjugate Gradient optimization\n",
    "def conjugate_gradient(X, y, model, criterion, max_iter=10):\n",
    "    params = list(model.parameters())\n",
    "    with torch.no_grad():\n",
    "        for param in params:\n",
    "            if param.requires_grad:\n",
    "                param.grad = None\n",
    "\n",
    "    outputs = model(X)\n",
    "    loss = criterion(outputs, y)\n",
    "    loss.backward()\n",
    "\n",
    "    grads = []\n",
    "    for param in params:\n",
    "        if param.grad is not None:\n",
    "            grads.append(param.grad.view(-1))\n",
    "    grads = torch.cat(grads)\n",
    "\n",
    "    direction = -grads\n",
    "    for i in range(max_iter):\n",
    "        # Line search\n",
    "        alpha = 0.01  # Fixed step size for simplicity\n",
    "\n",
    "        # Update parameters\n",
    "        idx = 0\n",
    "        for param in params:\n",
    "            if param.requires_grad:\n",
    "                numel = param.numel()\n",
    "                param.data += alpha * direction[idx: idx + numel].view_as(param.data)\n",
    "                idx += numel\n",
    "\n",
    "        # Compute new gradients\n",
    "        with torch.no_grad():\n",
    "            for param in params:\n",
    "                if param.requires_grad:\n",
    "                    param.grad = None\n",
    "\n",
    "        outputs = model(X)\n",
    "        loss = criterion(outputs, y)\n",
    "        loss.backward()\n",
    "\n",
    "        grads_new = []\n",
    "        for param in params:\n",
    "            if param.grad is not None:\n",
    "                grads_new.append(param.grad.view(-1))\n",
    "        grads_new = torch.cat(grads_new)\n",
    "\n",
    "        # Update direction using Polak-Ribiere formula\n",
    "        beta = torch.dot(grads_new, grads_new - grads) / torch.dot(grads, grads)\n",
    "        direction = -grads_new + beta * direction\n",
    "\n",
    "        grads = grads_new\n",
    "\n",
    "for epoch in range(epochs):\n",
    "    model_cg.train()\n",
    "    conjugate_gradient(X_train, y_train, model_cg, criterion, max_iter=10)\n",
    "    if (epoch + 1) % 10 == 0:\n",
    "        with torch.no_grad():\n",
    "            outputs = model_cg(X_train)\n",
    "            loss = criterion(outputs, y_train)\n",
    "        print(f\"Epoch [{epoch + 1}/{epochs}], Loss: {loss.item():.4f}\")\n",
    "\n",
    "# Evaluate Conjugate Gradient Model\n",
    "model_cg.eval()\n",
    "with torch.no_grad():\n",
    "    preds_cg = torch.argmax(model_cg(X_test), axis=1).numpy()\n",
    "    accuracy_cg = accuracy_score(y_test, preds_cg)\n",
    "print(f\"Conjugate Gradient Test Accuracy: {accuracy_cg:.4f}\")"
   ]
  },
  {
   "cell_type": "markdown",
   "metadata": {},
   "source": [
    "As you can see we achieved a better accuracy with Conjugate Gradient Method then Gradient Decent Method."
   ]
  }
 ],
 "metadata": {
  "kernelspec": {
   "display_name": "base",
   "language": "python",
   "name": "python3"
  },
  "language_info": {
   "codemirror_mode": {
    "name": "ipython",
    "version": 3
   },
   "file_extension": ".py",
   "mimetype": "text/x-python",
   "name": "python",
   "nbconvert_exporter": "python",
   "pygments_lexer": "ipython3",
   "version": "3.10.9"
  }
 },
 "nbformat": 4,
 "nbformat_minor": 4
}
